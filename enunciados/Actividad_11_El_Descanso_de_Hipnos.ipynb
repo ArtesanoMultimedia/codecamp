{
 "cells": [
  {
   "cell_type": "markdown",
   "source": [
    "\n",
    "# Actividad 11: El Descanso de Hipnos 😴\n",
    "\n",
    "Hola, jóvenes soñadores! 🌜 Hoy ayudaremos a Hipnos, el dios del sueño, a medir cuántas horas duermen los dioses del Olimpo. ¿Están listos para una aventura onírica con Python?\n",
    "\n",
    "Hipnos está muy interesado en saber cuánto descansan sus hermanos dioses. Ayudémosle a recolectar y calcular las horas de sueño usando Python.\n",
    "\n",
    "## Hipnos:\n",
    "🌌🛌 Hola, pequeños programadores. Soy Hipnos, el dios del sueño. Necesito vuestra ayuda para medir el descanso de los dioses. ¿Podéis mostrarme cómo hacerlo con vuestro lenguaje de programación? 🌌🛌\n",
    "\n",
    "## Pistas:\n",
    "Para esta tarea, usaremos la función `input()` para recoger datos del usuario. Por ejemplo, para preguntar cuántas horas ha dormido Zeus, podéis usar: `horas_zeus = input(\"¿Cuántas horas durmió Zeus? \")`.\n",
    "\n",
    "## Instrucciones:\n",
    "1. Pregunta a los Dioses: Utiliza la función `input()` para preguntar cuántas horas durmieron varios dioses.\n",
    "2. Conversión a Entero: Convierte las respuestas a enteros usando la función `int()`.\n",
    "3. Cálculo del Descanso Total: Suma todas las horas de sueño y guarda el resultado en una variable.\n",
    "4. Muestra el Resultado: Usa la función `print()` para mostrar el total de horas de sueño.\n",
    "\n",
    "## Agradecimiento:\n",
    "Gracias, queridos amigos. Con vuestra ayuda, ahora sé cuánto descansan los dioses y puedo asegurarme de que todos tengan dulces sueños. Vuestra habilidad con la programación es tan reconfortante como una noche de sueño profundo. ¡Continuad así, jóvenes exploradores del código!\n"
   ],
   "metadata": {
    "collapsed": false,
    "pycharm": {
     "name": "#%% md\n"
    }
   }
  },
  {
   "cell_type": "code",
   "execution_count": null,
   "id": "0b4ae60f",
   "metadata": {
    "pycharm": {
     "name": "#%%\n",
     "is_executing": true
    }
   },
   "outputs": [],
   "source": [
    "# Pregunta a los Dioses\n",
    "horas_zeus = input(\"¿Cuántas horas durmió Zeus? \")\n",
    "horas_hera = input(\"¿Cuántas horas durmió Hera? \")\n",
    "# Puedes agregar más dioses aquí"
   ]
  },
  {
   "cell_type": "code",
   "execution_count": null,
   "id": "a1b086f1",
   "metadata": {
    "pycharm": {
     "name": "#%%\n"
    }
   },
   "outputs": [],
   "source": [
    "# Conversión a Entero y Cálculo del Descanso Total\n",
    "total_horas = int(horas_zeus) + int(horas_hera)\n",
    "# No olvides sumar las horas de los otros dioses"
   ]
  },
  {
   "cell_type": "code",
   "execution_count": null,
   "id": "c9e01c37",
   "metadata": {
    "pycharm": {
     "name": "#%%\n"
    }
   },
   "outputs": [],
   "source": [
    "# Muestra el Resultado\n",
    "print(\"El total de horas de sueño de los dioses es:\", total_horas)"
   ]
  }
 ],
 "metadata": {},
 "nbformat": 4,
 "nbformat_minor": 5
}